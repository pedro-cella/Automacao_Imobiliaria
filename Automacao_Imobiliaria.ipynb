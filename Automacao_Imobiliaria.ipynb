{
 "cells": [
  {
   "cell_type": "markdown",
   "id": "3df4ad64",
   "metadata": {},
   "source": [
    "# Automação Imobiliária"
   ]
  },
  {
   "cell_type": "markdown",
   "id": "d74e4aa3",
   "metadata": {},
   "source": [
    "O código tem o propósito de realizar uma automação utilizando Selenium para buscar os dados nas páginas, ou seja, realizar o Scrapping, e com esses dados listar algumas imobiliárias de Brasília.\n",
    "\n",
    "Será utilizado a lista já existente do Google apenas buscando as informações da mesma."
   ]
  },
  {
   "cell_type": "code",
   "execution_count": 4,
   "id": "e4b8f0b2",
   "metadata": {},
   "outputs": [
    {
     "name": "stdout",
     "output_type": "stream",
     "text": [
      "Requirement already satisfied: selenium in f:\\mcpvg\\documents\\anaconda\\anaconda\\lib\\site-packages (4.1.0)\n",
      "Requirement already satisfied: urllib3[secure]~=1.26 in f:\\mcpvg\\documents\\anaconda\\anaconda\\lib\\site-packages (from selenium) (1.26.7)\n",
      "Requirement already satisfied: trio-websocket~=0.9 in f:\\mcpvg\\documents\\anaconda\\anaconda\\lib\\site-packages (from selenium) (0.9.2)\n",
      "Requirement already satisfied: trio~=0.17 in f:\\mcpvg\\documents\\anaconda\\anaconda\\lib\\site-packages (from selenium) (0.19.0)\n",
      "Requirement already satisfied: outcome in f:\\mcpvg\\documents\\anaconda\\anaconda\\lib\\site-packages (from trio~=0.17->selenium) (1.1.0)\n",
      "Requirement already satisfied: sniffio in f:\\mcpvg\\documents\\anaconda\\anaconda\\lib\\site-packages (from trio~=0.17->selenium) (1.2.0)\n",
      "Requirement already satisfied: sortedcontainers in f:\\mcpvg\\documents\\anaconda\\anaconda\\lib\\site-packages (from trio~=0.17->selenium) (2.4.0)\n",
      "Requirement already satisfied: async-generator>=1.9 in f:\\mcpvg\\documents\\anaconda\\anaconda\\lib\\site-packages (from trio~=0.17->selenium) (1.10)\n",
      "Requirement already satisfied: idna in f:\\mcpvg\\documents\\anaconda\\anaconda\\lib\\site-packages (from trio~=0.17->selenium) (3.2)\n",
      "Requirement already satisfied: attrs>=19.2.0 in f:\\mcpvg\\documents\\anaconda\\anaconda\\lib\\site-packages (from trio~=0.17->selenium) (21.2.0)\n",
      "Requirement already satisfied: cffi>=1.14 in f:\\mcpvg\\documents\\anaconda\\anaconda\\lib\\site-packages (from trio~=0.17->selenium) (1.14.6)\n",
      "Requirement already satisfied: pycparser in f:\\mcpvg\\documents\\anaconda\\anaconda\\lib\\site-packages (from cffi>=1.14->trio~=0.17->selenium) (2.20)\n",
      "Requirement already satisfied: wsproto>=0.14 in f:\\mcpvg\\documents\\anaconda\\anaconda\\lib\\site-packages (from trio-websocket~=0.9->selenium) (1.0.0)\n",
      "Requirement already satisfied: pyOpenSSL>=0.14 in f:\\mcpvg\\documents\\anaconda\\anaconda\\lib\\site-packages (from urllib3[secure]~=1.26->selenium) (21.0.0)\n",
      "Requirement already satisfied: cryptography>=1.3.4 in f:\\mcpvg\\documents\\anaconda\\anaconda\\lib\\site-packages (from urllib3[secure]~=1.26->selenium) (3.4.8)\n",
      "Requirement already satisfied: certifi in f:\\mcpvg\\documents\\anaconda\\anaconda\\lib\\site-packages (from urllib3[secure]~=1.26->selenium) (2021.10.8)\n",
      "Requirement already satisfied: six>=1.5.2 in f:\\mcpvg\\documents\\anaconda\\anaconda\\lib\\site-packages (from pyOpenSSL>=0.14->urllib3[secure]~=1.26->selenium) (1.16.0)\n",
      "Requirement already satisfied: h11<1,>=0.9.0 in f:\\mcpvg\\documents\\anaconda\\anaconda\\lib\\site-packages (from wsproto>=0.14->trio-websocket~=0.9->selenium) (0.13.0)\n"
     ]
    }
   ],
   "source": [
    "# Instalar Selenium\n",
    "!pip3 install selenium"
   ]
  },
  {
   "cell_type": "code",
   "execution_count": 3,
   "id": "84db9dc8",
   "metadata": {},
   "outputs": [],
   "source": [
    "# Teste webdriver\n",
    "# from selenium import webdriver\n",
    "# browser = webdriver.Chrome()\n",
    "# browser.get('http://www.ubuntu.com')"
   ]
  },
  {
   "cell_type": "markdown",
   "id": "ae5abcde",
   "metadata": {},
   "source": [
    "## Lógica de programação\n",
    "\n",
    "Etapas:\n",
    "1. Acessar site com a lista de imobiliárias\n",
    "2. Buscar nome, endereço, telefone e nota da imobiliária\n",
    "3. Salvar isso num DataFrame\n",
    "4. Transformar em um csv"
   ]
  },
  {
   "cell_type": "code",
   "execution_count": 8,
   "id": "7464c37f",
   "metadata": {},
   "outputs": [],
   "source": [
    "from selenium import webdriver\n",
    "from selenium.webdriver.common.by import By\n",
    "from selenium.webdriver.common.keys import Keys\n",
    "site = 'https://www.google.com/search?q=lista+de+imobiliárias+no+df&client=opera-gx&biw=1879&bih=939&tbm=lcl&sxsrf=APq-WBvy-zOx7uAueFA0p_kFMAHV8vVVAg%3A1643486278319&ei=Rpz1YbjtEt3Q1sQP_qaaqAs&oq=lista+de+imobiliárias+no+df&gs_l=psy-ab.3...0.0.0.2279316.0.0.0.0.0.0.0.0..0.0....0...1c..64.psy-ab..0.0.0....0.pksUJB5ehO4#rlfi=hd:;si:;mv:[[-15.7820158,-47.862352699999995],[-15.8385492,-47.9595311]];tbs:lrf:!1m4!1u3!2m2!3m1!1e1!1m4!1u2!2m2!2m1!1e1!2m1!1e2!2m1!1e3!3sIAE,lf:1,lf_ui:14'"
   ]
  },
  {
   "cell_type": "code",
   "execution_count": 24,
   "id": "99a91b03",
   "metadata": {},
   "outputs": [
    {
     "ename": "NoSuchElementException",
     "evalue": "Message: no such element: Unable to locate element: {\"method\":\"xpath\",\"selector\":\"//*[@id=\"tsuid16f1YYDoBajN5OUP9-ih6Ac2\"]/div[2]/div/a[1]/div/div/div[1]/span\"}\n  (Session info: chrome=97.0.4692.99)\nStacktrace:\nBacktrace:\n\tOrdinal0 [0x00BFFDC3+2555331]\n\tOrdinal0 [0x00B977F1+2127857]\n\tOrdinal0 [0x00A92E08+1060360]\n\tOrdinal0 [0x00ABE49E+1238174]\n\tOrdinal0 [0x00ABE69B+1238683]\n\tOrdinal0 [0x00AE9252+1413714]\n\tOrdinal0 [0x00AD7B54+1342292]\n\tOrdinal0 [0x00AE75FA+1406458]\n\tOrdinal0 [0x00AD7976+1341814]\n\tOrdinal0 [0x00AB36B6+1193654]\n\tOrdinal0 [0x00AB4546+1197382]\n\tGetHandleVerifier [0x00D99622+1619522]\n\tGetHandleVerifier [0x00E4882C+2336844]\n\tGetHandleVerifier [0x00C923E1+541697]\n\tGetHandleVerifier [0x00C91443+537699]\n\tOrdinal0 [0x00B9D18E+2150798]\n\tOrdinal0 [0x00BA1518+2168088]\n\tOrdinal0 [0x00BA1660+2168416]\n\tOrdinal0 [0x00BAB330+2208560]\n\tBaseThreadInitThunk [0x773DFA29+25]\n\tRtlGetAppContainerNamedObjectPath [0x77E07A9E+286]\n\tRtlGetAppContainerNamedObjectPath [0x77E07A6E+238]\n",
     "output_type": "error",
     "traceback": [
      "\u001b[1;31m---------------------------------------------------------------------------\u001b[0m",
      "\u001b[1;31mNoSuchElementException\u001b[0m                    Traceback (most recent call last)",
      "\u001b[1;32m~\\AppData\\Local\\Temp/ipykernel_784/4065074282.py\u001b[0m in \u001b[0;36m<module>\u001b[1;34m\u001b[0m\n\u001b[0;32m      2\u001b[0m \u001b[0mnavegador\u001b[0m \u001b[1;33m=\u001b[0m \u001b[0mwebdriver\u001b[0m\u001b[1;33m.\u001b[0m\u001b[0mChrome\u001b[0m\u001b[1;33m(\u001b[0m\u001b[1;33m)\u001b[0m\u001b[1;33m\u001b[0m\u001b[1;33m\u001b[0m\u001b[0m\n\u001b[0;32m      3\u001b[0m \u001b[0mnavegador\u001b[0m\u001b[1;33m.\u001b[0m\u001b[0mget\u001b[0m\u001b[1;33m(\u001b[0m\u001b[0msite\u001b[0m\u001b[1;33m)\u001b[0m\u001b[1;33m\u001b[0m\u001b[1;33m\u001b[0m\u001b[0m\n\u001b[1;32m----> 4\u001b[1;33m \u001b[0mlista_imobiliarias\u001b[0m \u001b[1;33m=\u001b[0m \u001b[0mnavegador\u001b[0m\u001b[1;33m.\u001b[0m\u001b[0mfind_element\u001b[0m\u001b[1;33m(\u001b[0m\u001b[0mBy\u001b[0m\u001b[1;33m.\u001b[0m\u001b[0mXPATH\u001b[0m\u001b[1;33m,\u001b[0m \u001b[1;34m'//*[@id=\"tsuid16f1YYDoBajN5OUP9-ih6Ac2\"]/div[2]/div/a[1]/div/div/div[1]/span'\u001b[0m\u001b[1;33m)\u001b[0m\u001b[1;33m\u001b[0m\u001b[1;33m\u001b[0m\u001b[0m\n\u001b[0m\u001b[0;32m      5\u001b[0m \u001b[0mprint\u001b[0m\u001b[1;33m(\u001b[0m\u001b[0mlista_imobiliarias\u001b[0m\u001b[1;33m)\u001b[0m\u001b[1;33m\u001b[0m\u001b[1;33m\u001b[0m\u001b[0m\n",
      "\u001b[1;32mF:\\mcpvg\\Documents\\Anaconda\\Anaconda\\lib\\site-packages\\selenium\\webdriver\\remote\\webdriver.py\u001b[0m in \u001b[0;36mfind_element\u001b[1;34m(self, by, value)\u001b[0m\n\u001b[0;32m   1242\u001b[0m             \u001b[0mvalue\u001b[0m \u001b[1;33m=\u001b[0m \u001b[1;34m'[name=\"%s\"]'\u001b[0m \u001b[1;33m%\u001b[0m \u001b[0mvalue\u001b[0m\u001b[1;33m\u001b[0m\u001b[1;33m\u001b[0m\u001b[0m\n\u001b[0;32m   1243\u001b[0m \u001b[1;33m\u001b[0m\u001b[0m\n\u001b[1;32m-> 1244\u001b[1;33m         return self.execute(Command.FIND_ELEMENT, {\n\u001b[0m\u001b[0;32m   1245\u001b[0m             \u001b[1;34m'using'\u001b[0m\u001b[1;33m:\u001b[0m \u001b[0mby\u001b[0m\u001b[1;33m,\u001b[0m\u001b[1;33m\u001b[0m\u001b[1;33m\u001b[0m\u001b[0m\n\u001b[0;32m   1246\u001b[0m             'value': value})['value']\n",
      "\u001b[1;32mF:\\mcpvg\\Documents\\Anaconda\\Anaconda\\lib\\site-packages\\selenium\\webdriver\\remote\\webdriver.py\u001b[0m in \u001b[0;36mexecute\u001b[1;34m(self, driver_command, params)\u001b[0m\n\u001b[0;32m    422\u001b[0m         \u001b[0mresponse\u001b[0m \u001b[1;33m=\u001b[0m \u001b[0mself\u001b[0m\u001b[1;33m.\u001b[0m\u001b[0mcommand_executor\u001b[0m\u001b[1;33m.\u001b[0m\u001b[0mexecute\u001b[0m\u001b[1;33m(\u001b[0m\u001b[0mdriver_command\u001b[0m\u001b[1;33m,\u001b[0m \u001b[0mparams\u001b[0m\u001b[1;33m)\u001b[0m\u001b[1;33m\u001b[0m\u001b[1;33m\u001b[0m\u001b[0m\n\u001b[0;32m    423\u001b[0m         \u001b[1;32mif\u001b[0m \u001b[0mresponse\u001b[0m\u001b[1;33m:\u001b[0m\u001b[1;33m\u001b[0m\u001b[1;33m\u001b[0m\u001b[0m\n\u001b[1;32m--> 424\u001b[1;33m             \u001b[0mself\u001b[0m\u001b[1;33m.\u001b[0m\u001b[0merror_handler\u001b[0m\u001b[1;33m.\u001b[0m\u001b[0mcheck_response\u001b[0m\u001b[1;33m(\u001b[0m\u001b[0mresponse\u001b[0m\u001b[1;33m)\u001b[0m\u001b[1;33m\u001b[0m\u001b[1;33m\u001b[0m\u001b[0m\n\u001b[0m\u001b[0;32m    425\u001b[0m             response['value'] = self._unwrap_value(\n\u001b[0;32m    426\u001b[0m                 response.get('value', None))\n",
      "\u001b[1;32mF:\\mcpvg\\Documents\\Anaconda\\Anaconda\\lib\\site-packages\\selenium\\webdriver\\remote\\errorhandler.py\u001b[0m in \u001b[0;36mcheck_response\u001b[1;34m(self, response)\u001b[0m\n\u001b[0;32m    245\u001b[0m                 \u001b[0malert_text\u001b[0m \u001b[1;33m=\u001b[0m \u001b[0mvalue\u001b[0m\u001b[1;33m[\u001b[0m\u001b[1;34m'alert'\u001b[0m\u001b[1;33m]\u001b[0m\u001b[1;33m.\u001b[0m\u001b[0mget\u001b[0m\u001b[1;33m(\u001b[0m\u001b[1;34m'text'\u001b[0m\u001b[1;33m)\u001b[0m\u001b[1;33m\u001b[0m\u001b[1;33m\u001b[0m\u001b[0m\n\u001b[0;32m    246\u001b[0m             \u001b[1;32mraise\u001b[0m \u001b[0mexception_class\u001b[0m\u001b[1;33m(\u001b[0m\u001b[0mmessage\u001b[0m\u001b[1;33m,\u001b[0m \u001b[0mscreen\u001b[0m\u001b[1;33m,\u001b[0m \u001b[0mstacktrace\u001b[0m\u001b[1;33m,\u001b[0m \u001b[0malert_text\u001b[0m\u001b[1;33m)\u001b[0m  \u001b[1;31m# type: ignore[call-arg]  # mypy is not smart enough here\u001b[0m\u001b[1;33m\u001b[0m\u001b[1;33m\u001b[0m\u001b[0m\n\u001b[1;32m--> 247\u001b[1;33m         \u001b[1;32mraise\u001b[0m \u001b[0mexception_class\u001b[0m\u001b[1;33m(\u001b[0m\u001b[0mmessage\u001b[0m\u001b[1;33m,\u001b[0m \u001b[0mscreen\u001b[0m\u001b[1;33m,\u001b[0m \u001b[0mstacktrace\u001b[0m\u001b[1;33m)\u001b[0m\u001b[1;33m\u001b[0m\u001b[1;33m\u001b[0m\u001b[0m\n\u001b[0m\u001b[0;32m    248\u001b[0m \u001b[1;33m\u001b[0m\u001b[0m\n\u001b[0;32m    249\u001b[0m     \u001b[1;32mdef\u001b[0m \u001b[0m_value_or_default\u001b[0m\u001b[1;33m(\u001b[0m\u001b[0mself\u001b[0m\u001b[1;33m,\u001b[0m \u001b[0mobj\u001b[0m\u001b[1;33m:\u001b[0m \u001b[0mMapping\u001b[0m\u001b[1;33m[\u001b[0m\u001b[0m_KT\u001b[0m\u001b[1;33m,\u001b[0m \u001b[0m_VT\u001b[0m\u001b[1;33m]\u001b[0m\u001b[1;33m,\u001b[0m \u001b[0mkey\u001b[0m\u001b[1;33m:\u001b[0m \u001b[0m_KT\u001b[0m\u001b[1;33m,\u001b[0m \u001b[0mdefault\u001b[0m\u001b[1;33m:\u001b[0m \u001b[0m_VT\u001b[0m\u001b[1;33m)\u001b[0m \u001b[1;33m->\u001b[0m \u001b[0m_VT\u001b[0m\u001b[1;33m:\u001b[0m\u001b[1;33m\u001b[0m\u001b[1;33m\u001b[0m\u001b[0m\n",
      "\u001b[1;31mNoSuchElementException\u001b[0m: Message: no such element: Unable to locate element: {\"method\":\"xpath\",\"selector\":\"//*[@id=\"tsuid16f1YYDoBajN5OUP9-ih6Ac2\"]/div[2]/div/a[1]/div/div/div[1]/span\"}\n  (Session info: chrome=97.0.4692.99)\nStacktrace:\nBacktrace:\n\tOrdinal0 [0x00BFFDC3+2555331]\n\tOrdinal0 [0x00B977F1+2127857]\n\tOrdinal0 [0x00A92E08+1060360]\n\tOrdinal0 [0x00ABE49E+1238174]\n\tOrdinal0 [0x00ABE69B+1238683]\n\tOrdinal0 [0x00AE9252+1413714]\n\tOrdinal0 [0x00AD7B54+1342292]\n\tOrdinal0 [0x00AE75FA+1406458]\n\tOrdinal0 [0x00AD7976+1341814]\n\tOrdinal0 [0x00AB36B6+1193654]\n\tOrdinal0 [0x00AB4546+1197382]\n\tGetHandleVerifier [0x00D99622+1619522]\n\tGetHandleVerifier [0x00E4882C+2336844]\n\tGetHandleVerifier [0x00C923E1+541697]\n\tGetHandleVerifier [0x00C91443+537699]\n\tOrdinal0 [0x00B9D18E+2150798]\n\tOrdinal0 [0x00BA1518+2168088]\n\tOrdinal0 [0x00BA1660+2168416]\n\tOrdinal0 [0x00BAB330+2208560]\n\tBaseThreadInitThunk [0x773DFA29+25]\n\tRtlGetAppContainerNamedObjectPath [0x77E07A9E+286]\n\tRtlGetAppContainerNamedObjectPath [0x77E07A6E+238]\n"
     ]
    }
   ],
   "source": [
    "# Passo 1: Buscando dados\n",
    "navegador = webdriver.Chrome()\n",
    "navegador.get(site)\n",
    "lista_imobiliarias = navegador.find_element(By.XPATH, '//*[@id=\"tsuid16f1YYDoBajN5OUP9-ih6Ac2\"]/div[2]/div/a[1]/div/div/div[1]/span')\n",
    "print(lista_imobiliarias)"
   ]
  },
  {
   "cell_type": "code",
   "execution_count": null,
   "id": "e0b66949",
   "metadata": {},
   "outputs": [],
   "source": []
  }
 ],
 "metadata": {
  "kernelspec": {
   "display_name": "Python 3 (ipykernel)",
   "language": "python",
   "name": "python3"
  },
  "language_info": {
   "codemirror_mode": {
    "name": "ipython",
    "version": 3
   },
   "file_extension": ".py",
   "mimetype": "text/x-python",
   "name": "python",
   "nbconvert_exporter": "python",
   "pygments_lexer": "ipython3",
   "version": "3.9.7"
  }
 },
 "nbformat": 4,
 "nbformat_minor": 5
}
