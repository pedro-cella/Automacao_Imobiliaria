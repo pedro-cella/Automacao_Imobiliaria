{
 "cells": [
  {
   "cell_type": "markdown",
   "id": "cfcadfbd",
   "metadata": {},
   "source": [
    "# Automação Imobiliária"
   ]
  },
  {
   "cell_type": "markdown",
   "id": "3a44e4ec",
   "metadata": {},
   "source": [
    "O código tem o propósito de realizar uma automação utilizando Selenium para buscar os dados nas páginas, ou seja, realizar o Scrapping, e com esses dados listar algumas imobiliárias de Brasília.\n",
    "\n",
    "Será utilizado a lista já existente do Google apenas buscando as informações da mesma."
   ]
  },
  {
   "cell_type": "markdown",
   "id": "a20addb2",
   "metadata": {},
   "source": [
    "## Busca pelas imobiliárias disponíveis em Brasília"
   ]
  },
  {
   "cell_type": "code",
   "execution_count": 1,
   "id": "0cd0ae8c",
   "metadata": {},
   "outputs": [
    {
     "name": "stdout",
     "output_type": "stream",
     "text": [
      "Requirement already satisfied: parsel in f:\\mcpvg\\documents\\anaconda\\anaconda\\lib\\site-packages (1.6.0)\n",
      "Requirement already satisfied: cssselect>=0.9 in f:\\mcpvg\\documents\\anaconda\\anaconda\\lib\\site-packages (from parsel) (1.1.0)\n",
      "Requirement already satisfied: lxml in f:\\mcpvg\\documents\\anaconda\\anaconda\\lib\\site-packages (from parsel) (4.6.3)\n",
      "Requirement already satisfied: w3lib>=1.19.0 in f:\\mcpvg\\documents\\anaconda\\anaconda\\lib\\site-packages (from parsel) (1.22.0)\n",
      "Requirement already satisfied: six>=1.6.0 in f:\\mcpvg\\documents\\anaconda\\anaconda\\lib\\site-packages (from parsel) (1.16.0)\n"
     ]
    }
   ],
   "source": [
    "# Instalar Selenium\n",
    "#!pip3 install selenium\n",
    "!pip3 install parsel"
   ]
  },
  {
   "cell_type": "markdown",
   "id": "15896d07",
   "metadata": {},
   "source": [
    "## Lógica de programação\n",
    "\n",
    "Etapas:\n",
    "1. Acessar site com a lista de imobiliárias\n",
    "2. Buscar nome, endereço, telefone e nota da imobiliária\n",
    "3. Salvar isso num DataFrame\n",
    "4. Transformar em um csv"
   ]
  },
  {
   "cell_type": "code",
   "execution_count": 1,
   "id": "ce904d7e",
   "metadata": {},
   "outputs": [],
   "source": [
    "import pandas as pd"
   ]
  },
  {
   "cell_type": "code",
   "execution_count": 3,
   "id": "17423611",
   "metadata": {},
   "outputs": [],
   "source": [
    "# A etapa de lógica de programação utilizou de uma extensão do google chamada Instant Data Scrapper "
   ]
  },
  {
   "cell_type": "code",
   "execution_count": 4,
   "id": "50cb8212",
   "metadata": {
    "scrolled": true
   },
   "outputs": [
    {
     "data": {
      "text/html": [
       "<div>\n",
       "<style scoped>\n",
       "    .dataframe tbody tr th:only-of-type {\n",
       "        vertical-align: middle;\n",
       "    }\n",
       "\n",
       "    .dataframe tbody tr th {\n",
       "        vertical-align: top;\n",
       "    }\n",
       "\n",
       "    .dataframe thead th {\n",
       "        text-align: right;\n",
       "    }\n",
       "</style>\n",
       "<table border=\"1\" class=\"dataframe\">\n",
       "  <thead>\n",
       "    <tr style=\"text-align: right;\">\n",
       "      <th></th>\n",
       "      <th>Nome</th>\n",
       "      <th>Nota</th>\n",
       "      <th>Numero_avaliacoes</th>\n",
       "    </tr>\n",
       "  </thead>\n",
       "  <tbody>\n",
       "    <tr>\n",
       "      <th>212</th>\n",
       "      <td>Augusto Cesar Consultoria Imobiliária</td>\n",
       "      <td>5,0</td>\n",
       "      <td>(2)</td>\n",
       "    </tr>\n",
       "    <tr>\n",
       "      <th>232</th>\n",
       "      <td>Duprime Imobiliária - Especialista no Lago Sul</td>\n",
       "      <td>5,0</td>\n",
       "      <td>(1)</td>\n",
       "    </tr>\n",
       "    <tr>\n",
       "      <th>161</th>\n",
       "      <td>CASA QUATRO CONSULTORIA IMOBILIÁRIA</td>\n",
       "      <td>5,0</td>\n",
       "      <td>(1)</td>\n",
       "    </tr>\n",
       "    <tr>\n",
       "      <th>163</th>\n",
       "      <td>Freire Imóveis DF</td>\n",
       "      <td>5,0</td>\n",
       "      <td>(3)</td>\n",
       "    </tr>\n",
       "    <tr>\n",
       "      <th>164</th>\n",
       "      <td>CLM Empreendimento Imobiliário</td>\n",
       "      <td>5,0</td>\n",
       "      <td>(1)</td>\n",
       "    </tr>\n",
       "    <tr>\n",
       "      <th>...</th>\n",
       "      <td>...</td>\n",
       "      <td>...</td>\n",
       "      <td>...</td>\n",
       "    </tr>\n",
       "    <tr>\n",
       "      <th>417</th>\n",
       "      <td>Conj. E</td>\n",
       "      <td>NaN</td>\n",
       "      <td>NaN</td>\n",
       "    </tr>\n",
       "    <tr>\n",
       "      <th>420</th>\n",
       "      <td>Sebastião Alves de Souza Neto</td>\n",
       "      <td>NaN</td>\n",
       "      <td>NaN</td>\n",
       "    </tr>\n",
       "    <tr>\n",
       "      <th>422</th>\n",
       "      <td>Q 3 C</td>\n",
       "      <td>NaN</td>\n",
       "      <td>NaN</td>\n",
       "    </tr>\n",
       "    <tr>\n",
       "      <th>424</th>\n",
       "      <td>Brenda Fashion</td>\n",
       "      <td>NaN</td>\n",
       "      <td>NaN</td>\n",
       "    </tr>\n",
       "    <tr>\n",
       "      <th>425</th>\n",
       "      <td>Dentart Prótese Dentária Ltda</td>\n",
       "      <td>NaN</td>\n",
       "      <td>NaN</td>\n",
       "    </tr>\n",
       "  </tbody>\n",
       "</table>\n",
       "<p>429 rows × 3 columns</p>\n",
       "</div>"
      ],
      "text/plain": [
       "                                               Nome Nota Numero_avaliacoes\n",
       "212           Augusto Cesar Consultoria Imobiliária  5,0               (2)\n",
       "232  Duprime Imobiliária - Especialista no Lago Sul  5,0               (1)\n",
       "161             CASA QUATRO CONSULTORIA IMOBILIÁRIA  5,0               (1)\n",
       "163                               Freire Imóveis DF  5,0               (3)\n",
       "164                  CLM Empreendimento Imobiliário  5,0               (1)\n",
       "..                                              ...  ...               ...\n",
       "417                                         Conj. E  NaN               NaN\n",
       "420                   Sebastião Alves de Souza Neto  NaN               NaN\n",
       "422                                           Q 3 C  NaN               NaN\n",
       "424                                  Brenda Fashion  NaN               NaN\n",
       "425                   Dentart Prótese Dentária Ltda  NaN               NaN\n",
       "\n",
       "[429 rows x 3 columns]"
      ]
     },
     "metadata": {},
     "output_type": "display_data"
    }
   ],
   "source": [
    "df = pd.read_csv('./google.csv')\n",
    "df = df.rename(columns = {'vzRMeAg4Oi8__kl-trunc-name': 'Nome', 'sBhnyP5sXkG__rtng': 'Nota', 'sBhnyP5sXkG__number-of-reviews': 'Numero_avaliacoes'}, inplace = False)\n",
    "df = df.sort_values(\"Nota\", ascending=False)\n",
    "display(df)"
   ]
  },
  {
   "cell_type": "code",
   "execution_count": 5,
   "id": "f16ed431",
   "metadata": {},
   "outputs": [
    {
     "data": {
      "text/plain": [
       "Nome                  2\n",
       "Nota                 83\n",
       "Numero_avaliacoes    83\n",
       "dtype: int64"
      ]
     },
     "execution_count": 5,
     "metadata": {},
     "output_type": "execute_result"
    }
   ],
   "source": [
    "df.isnull().sum()"
   ]
  },
  {
   "cell_type": "code",
   "execution_count": 6,
   "id": "aa5c331a",
   "metadata": {},
   "outputs": [
    {
     "data": {
      "text/plain": [
       "<bound method DataFrame.info of                                                Nome Nota Numero_avaliacoes\n",
       "212           Augusto Cesar Consultoria Imobiliária  5,0               (2)\n",
       "232  Duprime Imobiliária - Especialista no Lago Sul  5,0               (1)\n",
       "161             CASA QUATRO CONSULTORIA IMOBILIÁRIA  5,0               (1)\n",
       "163                               Freire Imóveis DF  5,0               (3)\n",
       "164                  CLM Empreendimento Imobiliário  5,0               (1)\n",
       "..                                              ...  ...               ...\n",
       "417                                         Conj. E  NaN               NaN\n",
       "420                   Sebastião Alves de Souza Neto  NaN               NaN\n",
       "422                                           Q 3 C  NaN               NaN\n",
       "424                                  Brenda Fashion  NaN               NaN\n",
       "425                   Dentart Prótese Dentária Ltda  NaN               NaN\n",
       "\n",
       "[429 rows x 3 columns]>"
      ]
     },
     "execution_count": 6,
     "metadata": {},
     "output_type": "execute_result"
    }
   ],
   "source": [
    "df.info"
   ]
  },
  {
   "cell_type": "code",
   "execution_count": 7,
   "id": "49d4ecad",
   "metadata": {},
   "outputs": [
    {
     "data": {
      "text/plain": [
       "Nome                  0\n",
       "Nota                 81\n",
       "Numero_avaliacoes    81\n",
       "dtype: int64"
      ]
     },
     "execution_count": 7,
     "metadata": {},
     "output_type": "execute_result"
    }
   ],
   "source": [
    "df.dropna(subset = [\"Nome\"], inplace=True)\n",
    "df.isnull().sum()"
   ]
  },
  {
   "cell_type": "code",
   "execution_count": 8,
   "id": "2b4fbb0c",
   "metadata": {},
   "outputs": [
    {
     "data": {
      "text/plain": [
       "Nome                 0\n",
       "Nota                 0\n",
       "Numero_avaliacoes    0\n",
       "dtype: int64"
      ]
     },
     "execution_count": 8,
     "metadata": {},
     "output_type": "execute_result"
    }
   ],
   "source": [
    "df.dropna(subset = [\"Nota\"], inplace=True)\n",
    "df.isnull().sum()"
   ]
  },
  {
   "cell_type": "code",
   "execution_count": 15,
   "id": "7ff4baef",
   "metadata": {},
   "outputs": [
    {
     "name": "stderr",
     "output_type": "stream",
     "text": [
      "C:\\Users\\Pedro\\AppData\\Local\\Temp/ipykernel_10060/679525870.py:1: FutureWarning: The default value of regex will change from True to False in a future version. In addition, single character regular expressions will *not* be treated as literal strings when regex=True.\n",
      "  df['Numero_avaliacoes'] = df['Numero_avaliacoes'].str.replace('(', '')\n",
      "C:\\Users\\Pedro\\AppData\\Local\\Temp/ipykernel_10060/679525870.py:2: FutureWarning: The default value of regex will change from True to False in a future version. In addition, single character regular expressions will *not* be treated as literal strings when regex=True.\n",
      "  df['Numero_avaliacoes'] = df['Numero_avaliacoes'].str.replace(')', '')\n"
     ]
    },
    {
     "data": {
      "text/plain": [
       "Nome                 object\n",
       "Nota                 object\n",
       "Numero_avaliacoes     int32\n",
       "dtype: object"
      ]
     },
     "execution_count": 15,
     "metadata": {},
     "output_type": "execute_result"
    }
   ],
   "source": [
    "df['Numero_avaliacoes'] = df['Numero_avaliacoes'].str.replace('(', '')\n",
    "df['Numero_avaliacoes'] = df['Numero_avaliacoes'].str.replace(')', '')\n",
    "df = df.astype({\"Numero_avaliacoes\": int})\n",
    "df.dtypes"
   ]
  },
  {
   "cell_type": "code",
   "execution_count": 10,
   "id": "841ce9dc",
   "metadata": {},
   "outputs": [],
   "source": [
    "df.to_csv('imobiliarias.csv',sep=',', index=False)"
   ]
  },
  {
   "cell_type": "code",
   "execution_count": 16,
   "id": "380acf96",
   "metadata": {},
   "outputs": [],
   "source": [
    "df.to_excel('imobiliarias.xlsx', index=False)"
   ]
  }
 ],
 "metadata": {
  "kernelspec": {
   "display_name": "Python 3 (ipykernel)",
   "language": "python",
   "name": "python3"
  },
  "language_info": {
   "codemirror_mode": {
    "name": "ipython",
    "version": 3
   },
   "file_extension": ".py",
   "mimetype": "text/x-python",
   "name": "python",
   "nbconvert_exporter": "python",
   "pygments_lexer": "ipython3",
   "version": "3.9.7"
  }
 },
 "nbformat": 4,
 "nbformat_minor": 5
}
